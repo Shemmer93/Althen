{
 "cells": [
  {
   "cell_type": "code",
   "execution_count": 35,
   "metadata": {},
   "outputs": [],
   "source": [
    "import pandas as pd\n",
    "import os"
   ]
  },
  {
   "cell_type": "code",
   "execution_count": 36,
   "metadata": {},
   "outputs": [
    {
     "name": "stdout",
     "output_type": "stream",
     "text": [
      "                               Datetime   Y value  Temperature\n",
      "Datetime                                                      \n",
      "2021-11-10 00:40:16 2021-11-10 00:40:16 -1.586914         16.3\n",
      "2021-11-10 01:40:16 2021-11-10 01:40:16 -1.586914         16.3\n",
      "2021-11-10 02:40:16 2021-11-10 02:40:16 -1.586914         16.3\n",
      "2021-11-10 03:40:16 2021-11-10 03:40:16 -1.586914         16.3\n",
      "2021-11-10 04:40:15 2021-11-10 04:40:15 -1.586914         16.3\n",
      "...                                 ...       ...          ...\n",
      "2022-05-18 06:31:12 2022-05-18 06:31:12 -1.605225         18.6\n",
      "2022-05-18 07:31:12 2022-05-18 07:31:12 -1.605225         18.6\n",
      "2022-05-18 08:31:13 2022-05-18 08:31:13 -1.605225         18.6\n",
      "2022-05-18 09:31:11 2022-05-18 09:31:11 -1.599121         18.6\n",
      "2022-05-18 10:31:12 2022-05-18 10:31:12 -1.605225         18.6\n",
      "\n",
      "[4456 rows x 3 columns]\n"
     ]
    }
   ],
   "source": [
    "# Load the data and parse together\n",
    "path_y = os.path.join(os.path.abspath('').removesuffix('interay.ipynb'), \"drift_y.csv\")\n",
    "path_temp = os.path.join(os.path.abspath('').removesuffix('interay.ipynb'), \"drift_temp.csv\")\n",
    "df = pd.read_csv(path_y)\n",
    "df2 = pd.read_csv(path_temp)\n",
    "tempcolumn = df2[\"Value\"]\n",
    "df.rename(columns= {'Series':'Series', 'Date':'Datetime', 'Value':'Y value'}, inplace = True)\n",
    "df=df.join(tempcolumn)\n",
    "df.rename(columns= {'Series':'Series', 'Datetime':'Datetime', 'Y value':'Y value', 'Value':'Temperature'}, inplace = True)\n",
    "df['Datetime'] = pd.to_datetime(df[\"Datetime\"], format = \"%Y-%m-%d %H:%M:%S\")\n",
    "df = df.set_index(\"Datetime\", drop=False)\n",
    "df = df.drop(columns=['Series'])\n",
    "print(df)\n"
   ]
  },
  {
   "cell_type": "code",
   "execution_count": 37,
   "metadata": {},
   "outputs": [],
   "source": [
    "# Extract two subseries of data\n",
    "length = 100 \n",
    "compare_start = pd.Timestamp(\"2022-04-25 00:00:00\") #%Y-%m-%d %H:%M:%S\n",
    "start_timestamp = df.index[0]\n",
    "mean_y_start = df.head(length)[\"Y value\"].mean()\n",
    "mean_temp_start = df.head(length)[\"Temperature\"].mean()\n",
    "mean_y_compare = df.loc[(df.index > compare_start)].head(length)[\"Y value\"].mean()\n",
    "mean_temp_compare = df.loc[(df.index > compare_start)].head(length)[\"Temperature\"].mean()\n",
    "\n",
    "# Print dataframes to check if they make sense\n",
    "#print(df.head(length))\n",
    "#print(df.loc[(df.index > compare_start)].head(length))"
   ]
  },
  {
   "cell_type": "code",
   "execution_count": 38,
   "metadata": {},
   "outputs": [
    {
     "name": "stdout",
     "output_type": "stream",
     "text": [
      "Mean Y value at start:  -1.5936279297000004\n",
      "Mean temperature at start:  16.451999999999998\n",
      "Mean Y value at compare timeframe:  -1.5973510726000006\n",
      "Mean temperature at compare timeframe:  16.173\n",
      "Drift time:  165 days 23:19:44\n",
      "Drift value:  -0.003723142900000198\n"
     ]
    }
   ],
   "source": [
    "# Print all the stuff\n",
    "print(\"Mean Y value at start: \", mean_y_start)\n",
    "print(\"Mean temperature at start: \", mean_temp_start)\n",
    "print(\"Mean Y value at compare timeframe: \", mean_y_compare)\n",
    "print(\"Mean temperature at compare timeframe: \", mean_temp_compare)\n",
    "print(\"Drift time: \", compare_start-start_timestamp)\n",
    "print(\"Drift value: \", mean_y_compare-mean_y_start)\n"
   ]
  }
 ],
 "metadata": {
  "interpreter": {
   "hash": "5c94616498fd62139a50969a4915bf30299b2de3479bc161db3f5b17dd7af499"
  },
  "kernelspec": {
   "display_name": "Python 3.10.1 64-bit",
   "language": "python",
   "name": "python3"
  },
  "language_info": {
   "codemirror_mode": {
    "name": "ipython",
    "version": 3
   },
   "file_extension": ".py",
   "mimetype": "text/x-python",
   "name": "python",
   "nbconvert_exporter": "python",
   "pygments_lexer": "ipython3",
   "version": "3.10.1"
  },
  "orig_nbformat": 4
 },
 "nbformat": 4,
 "nbformat_minor": 2
}
